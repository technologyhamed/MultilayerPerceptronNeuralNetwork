{
  "nbformat": 4,
  "nbformat_minor": 0,
  "metadata": {
    "colab": {
      "name": "PerceptronVitualize.ipynb",
      "provenance": [],
      "collapsed_sections": [],
      "include_colab_link": true
    },
    "kernelspec": {
      "name": "python3",
      "display_name": "Python 3"
    },
    "language_info": {
      "name": "python"
    }
  },
  "cells": [
    {
      "cell_type": "markdown",
      "metadata": {
        "id": "view-in-github",
        "colab_type": "text"
      },
      "source": [
        "<a href=\"https://colab.research.google.com/github/technologyhamed/MultilayerPerceptronNeuralNetwork/blob/main/PerceptronVitualize.ipynb\" target=\"_parent\"><img src=\"https://colab.research.google.com/assets/colab-badge.svg\" alt=\"Open In Colab\"/></a>"
      ]
    },
    {
      "cell_type": "code",
      "metadata": {
        "id": "1OQdRxaKkPSu"
      },
      "source": [
        "from itertools import cycle\n",
        "import matplotlib.pyplot as plt\n",
        "import seaborn as sns\n",
        "import numpy as np"
      ],
      "execution_count": null,
      "outputs": []
    },
    {
      "cell_type": "code",
      "metadata": {
        "id": "6YUBJTlcmWo3"
      },
      "source": [
        "train_data = np.array(\n",
        "    [\n",
        "        [0, 0],\n",
        "        [0, 1],\n",
        "        [1, 0],\n",
        "        [1, 1]])\n",
        "\n",
        "target_xor = np.array(\n",
        "    [\n",
        "        [0],\n",
        "        [1],\n",
        "        [1],\n",
        "        [0]])\n",
        "\n",
        "target_nand = np.array(\n",
        "    [\n",
        "        [1],\n",
        "        [1],\n",
        "        [1],\n",
        "        [0]])\n",
        "\n",
        "target_or = np.array(\n",
        "    [\n",
        "        [0],\n",
        "        [1],\n",
        "        [1],\n",
        "        [1]])\n",
        "\n",
        "target_and = np.array(\n",
        "    [\n",
        "        [0],\n",
        "        [0],\n",
        "        [0],\n",
        "        [1]])"
      ],
      "execution_count": null,
      "outputs": []
    },
    {
      "cell_type": "code",
      "metadata": {
        "id": "tx-TTya1mW01"
      },
      "source": [
        "class Perceptron:\n",
        "    \"\"\"\n",
        "    Create a perceptron.\n",
        "    train_data: A 4x2 matrix with the input data.\n",
        "    target: A 4x1 matrix with the perceptron's expected outputs\n",
        "    lr: the learning rate. Defaults to 0.01\n",
        "    input_nodes: the number of nodes in the input layer of the perceptron.\n",
        "        Should be equal to the second dimension of train_data.\n",
        "    \"\"\"\n",
        "\n",
        "    def __init__(self, train_data, target, lr=0.01, input_nodes=2):\n",
        "        self.train_data = train_data\n",
        "        self.target = target\n",
        "        self.lr = lr\n",
        "        self.input_nodes = input_nodes\n",
        "\n",
        "        # randomly initialize the weights and set the bias to -1.\n",
        "        self.w = np.random.uniform(size=self.input_nodes)\n",
        "        self.b = -1\n",
        "\n",
        "        # node_val hold the values of each node at a given point of time.\n",
        "        self.node_val = np.zeros(self.input_nodes)\n",
        "\n",
        "    def _gradient(self, node, exp, output):\n",
        "        \"\"\"\n",
        "        Return the gradient for a weight.\n",
        "        This is the value of delta-w.\n",
        "        \"\"\"\n",
        "        return node * (exp - output)\n",
        "\n",
        "    def update_weights(self, exp, output):\n",
        "        \"\"\"\n",
        "        Update weights and bias based on their respective gradients\n",
        "        \"\"\"\n",
        "        for i in range(self.input_nodes):\n",
        "            self.w[i] += self.lr * self._gradient(self.node_val[i], exp, output)\n",
        "\n",
        "        # the value of the bias node can be considered as being 1 and the weight between this node\n",
        "        # and the output node being self.b\n",
        "        self.b += self.lr * self._gradient(1, exp, output)\n",
        "\n",
        "    def forward(self, datapoint):\n",
        "        \"\"\"\n",
        "        One forward pass through the perceptron.\n",
        "        Implementation of \"wX + b\".\n",
        "        \"\"\"\n",
        "        return self.b + np.dot(self.w, datapoint)\n",
        "\n",
        "    def classify(self, datapoint):\n",
        "        \"\"\"\n",
        "        Return the class to which a datapoint belongs based on\n",
        "        the perceptron's output for that point.\n",
        "        \"\"\"\n",
        "        if self.forward(datapoint) >= 0:\n",
        "            return 1\n",
        "\n",
        "        return 0\n",
        "    def plot(self, h=0.01):\n",
        "        \"\"\"\n",
        "        Generate plot of input data and decision boundary.\n",
        "        \"\"\"\n",
        "        # setting plot properties like size, theme and axis limits\n",
        "        sns.set_style('darkgrid')\n",
        "        plt.figure(figsize=(20, 20))\n",
        "\n",
        "        plt.axis('scaled')\n",
        "        plt.xlim(-0.1, 1.1)\n",
        "        plt.ylim(-0.1, 1.1)\n",
        "\n",
        "        colors = {\n",
        "            0: \"ro\",\n",
        "            1: \"go\"\n",
        "        }\n",
        "\n",
        "        # plotting the four datapoints\n",
        "        for i in range(len(self.train_data)):\n",
        "            plt.plot([self.train_data[i][0]],\n",
        "                     [self.train_data[i][1]],\n",
        "                     colors[self.target[i][0]],\n",
        "                     markersize=20)\n",
        "\n",
        "        x_range = np.arange(-0.1, 1.1, h)\n",
        "        y_range = np.arange(-0.1, 1.1, h)\n",
        "\n",
        "        # creating a mesh to plot decision boundary\n",
        "        xx, yy = np.meshgrid(x_range, y_range, indexing='ij')\n",
        "        Z = np.array([[self.classify([x, y]) for x in x_range] for y in y_range])\n",
        "\n",
        "        # using the contourf function to create the plot\n",
        "        plt.contourf(xx, yy, Z, colors=['red', 'green', 'green', 'blue'], alpha=0.4)\n",
        "\n",
        "\n",
        "    def train(self):\n",
        "        \"\"\"\n",
        "        Train a single layer perceptron.\n",
        "        \"\"\"\n",
        "        # the number of consecutive correct classifications\n",
        "        correct_counter = 0\n",
        "\n",
        "        for train, target in cycle(zip(self.train_data, self.target)):\n",
        "            # end if all points are correctly classified\n",
        "            if correct_counter == len(self.train_data):\n",
        "                break\n",
        "\n",
        "            output = self.classify(train)\n",
        "            self.node_val = train\n",
        "\n",
        "            if output == target:\n",
        "                correct_counter += 1\n",
        "            else:\n",
        "                # if incorrectly classified, update weights and reset correct_counter\n",
        "                self.update_weights(target, output)\n",
        "                correct_counter = 0"
      ],
      "execution_count": null,
      "outputs": []
    },
    {
      "cell_type": "code",
      "metadata": {
        "colab": {
          "base_uri": "https://localhost:8080/",
          "height": 1000
        },
        "id": "MNjyzGf1mW87",
        "outputId": "46d26e8a-5b8e-4d0d-e339-17d779741bbb"
      },
      "source": [
        "p_xor = Perceptron(train_data, target_or)\n",
        "p_xor.train()\n",
        "p_xor.plot()"
      ],
      "execution_count": null,
      "outputs": [
        {
          "output_type": "display_data",
          "data": {
            "image/png": "[encoded data removed]",
            "text/plain": [
              "<Figure size 1440x1440 with 1 Axes>"
            ]
          },
          "metadata": {}
        }
      ]
    },
    {
      "cell_type": "code",
      "metadata": {
        "id": "S3PMl1WSmXA9"
      },
      "source": [
        ""
      ],
      "execution_count": null,
      "outputs": []
    }
  ]
}