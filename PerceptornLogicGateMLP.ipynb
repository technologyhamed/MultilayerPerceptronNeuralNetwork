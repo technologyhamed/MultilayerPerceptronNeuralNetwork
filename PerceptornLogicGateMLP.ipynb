{
  "nbformat": 4,
  "nbformat_minor": 0,
  "metadata": {
    "colab": {
      "name": "PerceptornLogicGateMLP.ipynb",
      "provenance": [],
      "collapsed_sections": [],
      "authorship_tag": "ABX9TyOl//Kir0fcDVhgZ+3E/rlE",
      "include_colab_link": true
    },
    "kernelspec": {
      "name": "python3",
      "display_name": "Python 3"
    },
    "language_info": {
      "name": "python"
    }
  },
  "cells": [
    {
      "cell_type": "markdown",
      "metadata": {
        "id": "view-in-github",
        "colab_type": "text"
      },
      "source": [
        "<a href=\"https://colab.research.google.com/github/technologyhamed/MultilayerPerceptronNeuralNetwork/blob/main/PerceptornLogicGateMLP.ipynb\" target=\"_parent\"><img src=\"https://colab.research.google.com/assets/colab-badge.svg\" alt=\"Open In Colab\"/></a>"
      ]
    },
    {
      "cell_type": "code",
      "metadata": {
        "colab": {
          "base_uri": "https://localhost:8080/"
        },
        "id": "XCpth7S2fm4J",
        "outputId": "d97c68b8-326f-4351-cde8-760b214b326d"
      },
      "source": [
        "import numpy as np\n",
        "\n",
        "# creating the input array\n",
        "X=np.array([[0,0],[0,1],[1,0],[1,1]])\n",
        "print ('\\n Input:')\n",
        "print(X)\n",
        "\n",
        "# creating the output array\n",
        "y=np.array([[0],[1],[1],[0]])\n",
        "print ('\\n Actual Output:')\n",
        "print(y)\n",
        "\n",
        "# defining the Sigmoid Function\n",
        "def sigmoid (x):\n",
        "    return 1/(1 + np.exp(-x))\n",
        "\n",
        "# derivative of Sigmoid Function\n",
        "def derivatives_sigmoid(x):\n",
        "    return x * (1 - x)\n",
        "\n",
        "# initializing the variables\n",
        "epoch=5000 # number of training iterations\n",
        "lr=0.1 # learning rate\n",
        "print(X.shape[1])\n",
        "inputlayer_neurons = X.shape[1] # number of features in data set\n",
        "hiddenlayer_neurons = 3 # number of hidden layers neurons\n",
        "output_neurons = 1 # number of neurons at output layer\n",
        "\n",
        "# initializing weight and bias\n",
        "wh=np.random.uniform(size=(inputlayer_neurons,hiddenlayer_neurons))\n",
        "bh=np.random.uniform(size=(1,hiddenlayer_neurons))\n",
        "wout=np.random.uniform(size=(hiddenlayer_neurons,output_neurons))\n",
        "bout=np.random.uniform(size=(1,output_neurons))\n",
        "\n",
        "# training the model\n",
        "for i in range(epoch):\n",
        "\n",
        "    #Forward Propogation\n",
        "    hidden_layer_input1=np.dot(X,wh)\n",
        "    hidden_layer_input=hidden_layer_input1 + bh\n",
        "    hiddenlayer_activations = sigmoid(hidden_layer_input)\n",
        "    output_layer_input1=np.dot(hiddenlayer_activations,wout)\n",
        "    output_layer_input= output_layer_input1+ bout\n",
        "    output = sigmoid(output_layer_input)\n",
        "\n",
        "    #Backpropagation\n",
        "    E = y-output\n",
        "    slope_output_layer = derivatives_sigmoid(output)\n",
        "    slope_hidden_layer = derivatives_sigmoid(hiddenlayer_activations)\n",
        "    d_output = E * slope_output_layer\n",
        "    Error_at_hidden_layer = d_output.dot(wout.T)\n",
        "    d_hiddenlayer = Error_at_hidden_layer * slope_hidden_layer\n",
        "    wout += hiddenlayer_activations.T.dot(d_output) *lr\n",
        "    bout += np.sum(d_output, axis=0,keepdims=True) *lr\n",
        "    wh += X.T.dot(d_hiddenlayer) *lr\n",
        "    bh += np.sum(d_hiddenlayer, axis=0,keepdims=True) *lr\n",
        "\n",
        "print ('\\n Output from the model:')\n",
        "print (output)"
      ],
      "execution_count": 2,
      "outputs": [
        {
          "output_type": "stream",
          "name": "stdout",
          "text": [
            "\n",
            " Input:\n",
            "[[0 0]\n",
            " [0 1]\n",
            " [1 0]\n",
            " [1 1]]\n",
            "\n",
            " Actual Output:\n",
            "[[0]\n",
            " [1]\n",
            " [1]\n",
            " [0]]\n",
            "2\n",
            "\n",
            " Output from the model:\n",
            "[[0.13754444]\n",
            " [0.85767636]\n",
            " [0.86171882]\n",
            " [0.16251831]]\n"
          ]
        }
      ]
    }
  ]
}